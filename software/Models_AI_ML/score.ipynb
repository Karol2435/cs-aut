{
 "cells": [
  {
   "cell_type": "code",
   "execution_count": 1,
   "metadata": {},
   "outputs": [],
   "source": [
    "def model_call(path_in,path_out,model, dataset, debug):\n",
    " \n",
    "    import xgboost\n",
    "    import pandas as pd\n",
    "    import math\n",
    "    import category_encoders as ce\n",
    "    \n",
    "    if  dataset.endswith(\".sas7bdat\")  > 1:\n",
    "        ds_path=path_in+dataset\n",
    "    else : \n",
    "        ds_path=path_in+dataset+\".sas7bdat\"\n",
    "        \n",
    "    model_path=path_in+model\n",
    "    out_path=path_out+\"outscore.csv\"\n",
    "\n",
    "    if debug ==1:\n",
    "        print (\"path: \"+path_in) \n",
    "        print (\"model name: \" +model)\n",
    "        print (\"dataset name: \" +dataset)\n",
    "        print(\"DS_path: \" +ds_path)\n",
    "\n",
    "    target_name='default12'\n",
    "    time_name='period'\n",
    "    intercept_name='Intercept'\n",
    "    event_value='outstanding_bad'\n",
    "    all_value='outstanding'\n",
    "    id_vars=['aid']    \n",
    "    \n",
    "    df = pd.read_sas(ds_path, encoding='LATIN2')\n",
    "    \n",
    "    df[intercept_name]=1\n",
    "    df[event_value]=df['app_loan_amount']*df[target_name]\n",
    "    df[all_value]=df['app_loan_amount']\n",
    "    \n",
    "    #List of variables\n",
    "    vars = [var for var in list(df) if var[0:3].lower() in ['app','act']]\n",
    "    # vars = [var for var in list(df) if var[0:3].lower() in ['app','act','agr','ags']]\n",
    "\n",
    "    #Splitting into numeric and character variables\n",
    "    varsc = list(df[vars].select_dtypes(include='object'))\n",
    "    varsn = list(df[vars].select_dtypes(include='number'))\n",
    "    \n",
    "    \n",
    "    #Categorical variables coding\n",
    "    enc = ce.BinaryEncoder(cols=varsc)\n",
    "    df_ce = enc.fit_transform(df[varsc])\n",
    "    varsc_ce = list(df_ce)\n",
    "\n",
    "#     df_ce = enc.fit_transform(df)\n",
    "    df_ce=df\n",
    "\n",
    "    vars_ce = varsn\n",
    "#     vars_ce = varsn + varsc_ce\n",
    "\n",
    "    test = df_ce\n",
    "    test[target_name]=1\n",
    "\n",
    "    X_test=test[vars_ce]\n",
    "    Y_test=test[target_name]\n",
    "\n",
    "    \n",
    "    if debug ==1:    \n",
    "        print (test.shape)\n",
    "        print (df.shape)\n",
    "\n",
    "    xdm_test  = xgboost.DMatrix(X_test, Y_test, enable_categorical=True, missing=True)\n",
    "    \n",
    "        \n",
    "    model = xgboost.Booster()\n",
    "\n",
    "    model.load_model(model_path)\n",
    "\n",
    "    Y_pred_test = model.predict(xdm_test)\n",
    "    \n",
    "    df_out=df\n",
    "\n",
    "    df_out['SCORECARD_POINTS']= pd.DataFrame(Y_pred_test)\n",
    "    \n",
    "    fin_vars= ['SCORECARD_POINTS'] + [time_name] + id_vars\n",
    "    \n",
    "    df_out=df_out[fin_vars]\n",
    "    \n",
    "    df_out.to_csv(out_path, index=False)\n",
    "   \n",
    "        \n",
    "    return 0"
   ]
  },
  {
   "cell_type": "code",
   "execution_count": 2,
   "metadata": {},
   "outputs": [
    {
     "name": "stdout",
     "output_type": "stream",
     "text": [
      "path: c:/Users/kprzan/Models_AI_ML/\n",
      "model name: xgb1.model\n",
      "dataset name: abt_app\n",
      "DS_path: c:/Users/kprzan/Models_AI_ML/abt_app.sas7bdat\n"
     ]
    },
    {
     "name": "stderr",
     "output_type": "stream",
     "text": [
      "C:\\Users\\kprzan\\AppData\\Local\\Temp\\ipykernel_11148\\1762196.py:31: PerformanceWarning: DataFrame is highly fragmented.  This is usually the result of calling `frame.insert` many times, which has poor performance.  Consider joining all columns at once using pd.concat(axis=1) instead. To get a de-fragmented frame, use `newframe = frame.copy()`\n",
      "  df[intercept_name]=1\n",
      "C:\\Users\\kprzan\\AppData\\Local\\Temp\\ipykernel_11148\\1762196.py:32: PerformanceWarning: DataFrame is highly fragmented.  This is usually the result of calling `frame.insert` many times, which has poor performance.  Consider joining all columns at once using pd.concat(axis=1) instead. To get a de-fragmented frame, use `newframe = frame.copy()`\n",
      "  df[event_value]=df['app_loan_amount']*df[target_name]\n",
      "C:\\Users\\kprzan\\AppData\\Local\\Temp\\ipykernel_11148\\1762196.py:33: PerformanceWarning: DataFrame is highly fragmented.  This is usually the result of calling `frame.insert` many times, which has poor performance.  Consider joining all columns at once using pd.concat(axis=1) instead. To get a de-fragmented frame, use `newframe = frame.copy()`\n",
      "  df[all_value]=df['app_loan_amount']\n"
     ]
    },
    {
     "name": "stdout",
     "output_type": "stream",
     "text": [
      "(11437, 222)\n",
      "(11437, 222)\n"
     ]
    },
    {
     "data": {
      "text/plain": [
       "0"
      ]
     },
     "execution_count": 2,
     "metadata": {},
     "output_type": "execute_result"
    }
   ],
   "source": [
    "model_call('c:/Users/kprzan/Models_AI_ML/','c:/Users/kprzan/Models_AI_ML/','xgb1.model', 'abt_app',1)"
   ]
  },
  {
   "cell_type": "code",
   "execution_count": null,
   "metadata": {},
   "outputs": [],
   "source": []
  },
  {
   "cell_type": "code",
   "execution_count": null,
   "metadata": {},
   "outputs": [],
   "source": []
  },
  {
   "cell_type": "code",
   "execution_count": null,
   "metadata": {},
   "outputs": [],
   "source": []
  }
 ],
 "metadata": {
  "kernelspec": {
   "display_name": "Python 3 (ipykernel)",
   "language": "python",
   "name": "python3"
  },
  "language_info": {
   "codemirror_mode": {
    "name": "ipython",
    "version": 3
   },
   "file_extension": ".py",
   "mimetype": "text/x-python",
   "name": "python",
   "nbconvert_exporter": "python",
   "pygments_lexer": "ipython3",
   "version": "3.9.13"
  }
 },
 "nbformat": 4,
 "nbformat_minor": 2
}
